{
 "cells": [
  {
   "cell_type": "code",
   "execution_count": 461,
   "id": "73f9d3af",
   "metadata": {},
   "outputs": [],
   "source": [
    "from pyspark.sql import SparkSession\n",
    "\n",
    "spark = SparkSession.\\\n",
    "        builder.\\\n",
    "        appName(\"pyspark-notebook\").\\\n",
    "        master(\"spark://spark-master:7077\").\\\n",
    "        config(\"spark.executor.memory\", \"512m\").\\\n",
    "        getOrCreate()"
   ]
  },
  {
   "cell_type": "code",
   "execution_count": 462,
   "id": "93082584",
   "metadata": {},
   "outputs": [],
   "source": [
    "import pyspark.sql.types as T\n",
    "import pyspark.sql.functions as F\n",
    "import time\n",
    "from pyspark.sql.functions import *\n",
    "from pyspark.sql.functions import unix_timestamp\n",
    "import datetime\n",
    "from datetime import datetime\n",
    "\n",
    "from pyspark.sql import SparkSession\n",
    "\n",
    "\n",
    "spark = SparkSession.builder.master(\"local\").\\\n",
    "                    appName(\"Word Count\").\\\n",
    "                    config(\"spark.driver.bindAddress\",\"localhost\").\\\n",
    "                    config(\"spark.ui.port\",\"4040\").\\\n",
    "                    getOrCreate()"
   ]
  },
  {
   "cell_type": "markdown",
   "id": "26047012",
   "metadata": {},
   "source": [
    "Создайте схему будущего фрейма данных. Схема должна включать следующие атрибуты:\n",
    "\n",
    "·   id -  уникальный идентификатор посетителя сайта. Тип – последовательность чисел фиксированной длины. Данное поле не является первичным ключом.\n",
    "\n",
    "·   timestamp – дата и время события в формате unix timestamp.\n",
    "\n",
    "·   type – тип события, значение из списка (факт посещения(visit), клик по визуальному элементу страницы(click), скролл(scroll), перед на другую страницу(move)).\n",
    "\n",
    "·   page_id – id текущей страницы. Тип - последовательность чисел фиксированной длины.\n",
    "\n",
    "·   tag – каждая страница с новостью размечается редакцией специальными тегами, которые отражают тематику конкретной новости со страницы. Возможный список тематик: политика, спорт, медицина и т.д.\n",
    "\n",
    "·   sign – наличие у пользователя личного кабинета. Значения – True/False."
   ]
  },
  {
   "cell_type": "code",
   "execution_count": 463,
   "id": "6cfb41d2",
   "metadata": {},
   "outputs": [],
   "source": [
    "schema = T.StructType([\n",
    "                T.StructField(\"id\", T.IntegerType(), True),\n",
    "                T.StructField(\"timestamp\", T.LongType(), True),\n",
    "                T.StructField(\"type\", T.StringType(), True),\n",
    "                T.StructField(\"page_id\", T.IntegerType(), True),\n",
    "                T.StructField(\"tag\", T.StringType(), True),\n",
    "                T.StructField(\"sign\", T.BooleanType(), True)\n",
    "])"
   ]
  },
  {
   "cell_type": "markdown",
   "id": "9dedc3f8",
   "metadata": {},
   "source": [
    "Создайте датафрейм с описанной выше схемой данных.\n",
    "\n",
    "Наполните датафрейм данными. Пример:\n",
    "\n",
    "(12345, 1667627426, \"click\", 101, \"Sport”, False)"
   ]
  },
  {
   "cell_type": "code",
   "execution_count": 464,
   "id": "ca022723",
   "metadata": {
    "scrolled": true
   },
   "outputs": [],
   "source": [
    "data = [(134441, 1667627426, 'visit', 101, 'политика', True),\n",
    "        (134441, 1667627500, 'scroll', 101, 'политика', True),\n",
    "        (134441, 1667627000, 'move', 200, 'политика', True),\n",
    "        (134442, 1667627426, 'visit', 200, 'политика', True),\n",
    "        (134442, 1667627500, 'scroll', 101, 'политика', True),\n",
    "        (134443, 1667627555, 'move', 101, 'политика', False),\n",
    "        (134443, 1667627426, 'visit', 101, 'политика', False),\n",
    "        (134443, 1667627500, 'scroll', 101, 'политика', False),\n",
    "        (134443, 1667627555, 'click', 200, 'политика', False),\n",
    "        (134444, 1667627426, 'visit', 101, 'политика', False),\n",
    "        (134441, 1667627500, 'click', 200, 'политика', True),\n",
    "        (134441, 1667627555, 'move', 101, 'политика', True),\n",
    "        (134442, 1667627426, 'click', 101, 'политика', True),\n",
    "        (134442, 1667627500, 'click', 102, 'политика', True),\n",
    "        (134443, 1667655555, 'move', 101, 'политика', False),\n",
    "        (134443, 1667655426, 'visit', 103, 'спорт', False),\n",
    "        (134443, 1667665500, 'scroll', 103, 'спорт', False),\n",
    "        (134443, 1667665555, 'move', 105, 'политика', False),\n",
    "        (134443, 1667666555, 'click', 105, 'политика', False),\n",
    "        (134444, 1667627426, 'visit', 101, 'политика', False),\n",
    "        (134445, 1667627500, 'scroll', 101, 'политика', True),\n",
    "        (134446, 1667630000, 'move', 101, 'политика', True),\n",
    "        (134447, 1667627426, 'visit', 101, 'политика', False),\n",
    "        (134448, 1667627426, 'visit', 101, 'политика', True),\n",
    "        (134448, 1667627500, 'scroll', 101, 'политика', True),\n",
    "        (134448, 1667627555, 'click', 150, 'спорт', True),\n",
    "        (134448, 1667627500, 'scroll', 101, 'политика', True),\n",
    "        (134448, 1667627555, 'move', 101, 'политика', True),\n",
    "        (134449, 1667627555, 'click', 150, 'спорт', True),\n",
    "        (134450, 1667627555, 'click', 150, 'спорт', True),\n",
    "        (134450, 1667627555, 'move', 101, 'политика', True),\n",
    "        (134450, 1667627555, 'click', 101, 'политика', True),\n",
    "        (134450, 1667627555, 'move', 101, 'политика', True),\n",
    "        (134448, 1667627500, 'click', 300, 'политика', True),\n",
    "        (134448, 1667627555, 'click', 300, 'политика', True),\n",
    "        (134449, 1667627555, 'click', 300, 'политика', True),\n",
    "        (134450, 1667627555, 'click', 155, 'спорт', True),\n",
    "        (134450, 1667627555, 'click', 155, 'спорт', True),\n",
    "        (134450, 1667627555, 'click', 157, 'спорт', True),\n",
    "        (134450, 1667627555, 'click', 158, 'спорт', True)\n",
    "]\n",
    "df = spark.createDataFrame(data = data, schema = schema)"
   ]
  },
  {
   "cell_type": "code",
   "execution_count": 465,
   "id": "ec3a1811",
   "metadata": {},
   "outputs": [
    {
     "name": "stdout",
     "output_type": "stream",
     "text": [
      "root\n",
      " |-- id: integer (nullable = true)\n",
      " |-- timestamp: long (nullable = true)\n",
      " |-- type: string (nullable = true)\n",
      " |-- page_id: integer (nullable = true)\n",
      " |-- tag: string (nullable = true)\n",
      " |-- sign: boolean (nullable = true)\n",
      "\n"
     ]
    }
   ],
   "source": [
    "df.printSchema()"
   ]
  },
  {
   "cell_type": "code",
   "execution_count": 466,
   "id": "7d16e822",
   "metadata": {},
   "outputs": [
    {
     "name": "stdout",
     "output_type": "stream",
     "text": [
      "+------+----------+------+-------+--------+-----+\n",
      "|    id| timestamp|  type|page_id|     tag| sign|\n",
      "+------+----------+------+-------+--------+-----+\n",
      "|134441|1667627426| visit|    101|политика| true|\n",
      "|134441|1667627500|scroll|    101|политика| true|\n",
      "|134441|1667627000|  move|    200|политика| true|\n",
      "|134442|1667627426| visit|    200|политика| true|\n",
      "|134442|1667627500|scroll|    101|политика| true|\n",
      "|134443|1667627555|  move|    101|политика|false|\n",
      "|134443|1667627426| visit|    101|политика|false|\n",
      "|134443|1667627500|scroll|    101|политика|false|\n",
      "|134443|1667627555| click|    200|политика|false|\n",
      "|134444|1667627426| visit|    101|политика|false|\n",
      "|134441|1667627500| click|    200|политика| true|\n",
      "|134441|1667627555|  move|    101|политика| true|\n",
      "|134442|1667627426| click|    101|политика| true|\n",
      "|134442|1667627500| click|    102|политика| true|\n",
      "|134443|1667655555|  move|    101|политика|false|\n",
      "|134443|1667655426| visit|    103|   спорт|false|\n",
      "|134443|1667665500|scroll|    103|   спорт|false|\n",
      "|134443|1667665555|  move|    105|политика|false|\n",
      "|134443|1667666555| click|    105|политика|false|\n",
      "|134444|1667627426| visit|    101|политика|false|\n",
      "+------+----------+------+-------+--------+-----+\n",
      "only showing top 20 rows\n",
      "\n"
     ]
    }
   ],
   "source": [
    "df.show()"
   ]
  },
  {
   "cell_type": "markdown",
   "id": "ebc83dea",
   "metadata": {},
   "source": [
    "Вывести топ-5 самых активных посетителей сайта"
   ]
  },
  {
   "cell_type": "code",
   "execution_count": 480,
   "id": "91d66303",
   "metadata": {},
   "outputs": [
    {
     "name": "stdout",
     "output_type": "stream",
     "text": [
      "+------+-----+\n",
      "|    id|count|\n",
      "+------+-----+\n",
      "|134443|    9|\n",
      "|134450|    8|\n",
      "|134448|    7|\n",
      "|134441|    5|\n",
      "|134442|    4|\n",
      "+------+-----+\n",
      "\n"
     ]
    }
   ],
   "source": [
    "df.groupBy(col(\"id\"))\\\n",
    "  .count()\\\n",
    "  .sort(desc(\"count\"))\\\n",
    "  .limit(5)\\\n",
    "  .show()"
   ]
  },
  {
   "cell_type": "markdown",
   "id": "db57c91c",
   "metadata": {},
   "source": [
    "Посчитать процент посетителей, у которых есть ЛК"
   ]
  },
  {
   "cell_type": "code",
   "execution_count": 483,
   "id": "7ffeb8b4",
   "metadata": {},
   "outputs": [
    {
     "data": {
      "text/plain": [
       "0.7"
      ]
     },
     "execution_count": 483,
     "metadata": {},
     "output_type": "execute_result"
    }
   ],
   "source": [
    "df1 = df.select(\"id\",\"sign\").distinct()\n",
    "#df1.show()\n",
    "df1.where(df1.sign == True).count() / df1.count()"
   ]
  },
  {
   "cell_type": "markdown",
   "id": "27e5bf76",
   "metadata": {},
   "source": [
    " Вывести топ-5 страниц сайта по показателю общего кол-ва кликов на данной странице"
   ]
  },
  {
   "cell_type": "code",
   "execution_count": 482,
   "id": "1813c5e1",
   "metadata": {},
   "outputs": [
    {
     "name": "stdout",
     "output_type": "stream",
     "text": [
      "+-------+-----+\n",
      "|page_id|count|\n",
      "+-------+-----+\n",
      "|    300|    3|\n",
      "|    150|    3|\n",
      "|    155|    2|\n",
      "|    101|    2|\n",
      "|    200|    2|\n",
      "+-------+-----+\n",
      "only showing top 5 rows\n",
      "\n"
     ]
    }
   ],
   "source": [
    "df.filter(df.type == \"click\")\\\n",
    "  .groupBy(col(\"page_id\"))\\\n",
    "  .count()\\\n",
    "  .sort(desc(\"count\"))\\\n",
    "  .show(5)"
   ]
  },
  {
   "cell_type": "markdown",
   "id": "00759cb3",
   "metadata": {},
   "source": [
    "Добавьте столбец к фрейму данных со значением временного диапазона в рамках суток с размером окна – 4 часа(0-4, 4-8, 8-12 и т.д.)"
   ]
  },
  {
   "cell_type": "code",
   "execution_count": 470,
   "id": "d763ed21",
   "metadata": {},
   "outputs": [
    {
     "name": "stdout",
     "output_type": "stream",
     "text": [
      "+------+----------+------+-------+--------+-----+----------+\n",
      "|    id| timestamp|  type|page_id|     tag| sign|time_range|\n",
      "+------+----------+------+-------+--------+-----+----------+\n",
      "|134441|1667627426| visit|    101|политика| true|       5-8|\n",
      "|134441|1667627500|scroll|    101|политика| true|       5-8|\n",
      "|134441|1667627000|  move|    200|политика| true|       5-8|\n",
      "|134442|1667627426| visit|    200|политика| true|       5-8|\n",
      "|134442|1667627500|scroll|    101|политика| true|       5-8|\n",
      "|134443|1667627555|  move|    101|политика|false|       5-8|\n",
      "|134443|1667627426| visit|    101|политика|false|       5-8|\n",
      "|134443|1667627500|scroll|    101|политика|false|       5-8|\n",
      "|134443|1667627555| click|    200|политика|false|       5-8|\n",
      "|134444|1667627426| visit|    101|политика|false|       5-8|\n",
      "|134441|1667627500| click|    200|политика| true|       5-8|\n",
      "|134441|1667627555|  move|    101|политика| true|       5-8|\n",
      "|134442|1667627426| click|    101|политика| true|       5-8|\n",
      "|134442|1667627500| click|    102|политика| true|       5-8|\n",
      "|134443|1667655555|  move|    101|политика|false|       0-4|\n",
      "|134443|1667655426| visit|    103|   спорт|false|       0-4|\n",
      "|134443|1667665500|scroll|    103|   спорт|false|       0-4|\n",
      "|134443|1667665555|  move|    105|политика|false|       0-4|\n",
      "|134443|1667666555| click|    105|политика|false|       0-4|\n",
      "|134444|1667627426| visit|    101|политика|false|       5-8|\n",
      "|134445|1667627500|scroll|    101|политика| true|       5-8|\n",
      "|134446|1667630000|  move|    101|политика| true|       5-8|\n",
      "|134447|1667627426| visit|    101|политика|false|       5-8|\n",
      "|134448|1667627426| visit|    101|политика| true|       5-8|\n",
      "|134448|1667627500|scroll|    101|политика| true|       5-8|\n",
      "|134448|1667627555| click|    150|   спорт| true|       5-8|\n",
      "|134448|1667627500|scroll|    101|политика| true|       5-8|\n",
      "|134448|1667627555|  move|    101|политика| true|       5-8|\n",
      "|134449|1667627555| click|    150|   спорт| true|       5-8|\n",
      "|134450|1667627555| click|    150|   спорт| true|       5-8|\n",
      "|134450|1667627555|  move|    101|политика| true|       5-8|\n",
      "|134450|1667627555| click|    101|политика| true|       5-8|\n",
      "|134450|1667627555|  move|    101|политика| true|       5-8|\n",
      "|134448|1667627500| click|    300|политика| true|       5-8|\n",
      "|134448|1667627555| click|    300|политика| true|       5-8|\n",
      "|134449|1667627555| click|    300|политика| true|       5-8|\n",
      "|134450|1667627555| click|    155|   спорт| true|       5-8|\n",
      "|134450|1667627555| click|    155|   спорт| true|       5-8|\n",
      "|134450|1667627555| click|    157|   спорт| true|       5-8|\n",
      "|134450|1667627555| click|    158|   спорт| true|       5-8|\n",
      "+------+----------+------+-------+--------+-----+----------+\n",
      "\n"
     ]
    }
   ],
   "source": [
    "df3 = df.withColumn(\"time_range\", when(from_unixtime(col(\"timestamp\"),\"hh\") <= 4,\"0-4\")\n",
    "              .when(from_unixtime(col(\"timestamp\"),\"hh\") <= 8,\"5-8\")\n",
    "              .when(from_unixtime(col(\"timestamp\"),\"hh\") <= 12,\"9-12\"))\n",
    "df3.show(200)"
   ]
  },
  {
   "cell_type": "markdown",
   "id": "6d464066",
   "metadata": {},
   "source": [
    "Выведите временной промежуток на основе предыдущего задания, в течение которого было больше всего активностей на сайте."
   ]
  },
  {
   "cell_type": "code",
   "execution_count": 484,
   "id": "86b66150",
   "metadata": {},
   "outputs": [
    {
     "name": "stdout",
     "output_type": "stream",
     "text": [
      "+----------+-----+\n",
      "|time_range|count|\n",
      "+----------+-----+\n",
      "|       5-8|   35|\n",
      "+----------+-----+\n",
      "only showing top 1 row\n",
      "\n"
     ]
    }
   ],
   "source": [
    "df3.groupBy(col(\"time_range\"))\\\n",
    "   .count()\\\n",
    "   .sort(desc(\"count\"))\\\n",
    "   .show(1)"
   ]
  },
  {
   "cell_type": "markdown",
   "id": "8b4cb01c",
   "metadata": {},
   "source": [
    "Создайте второй фрейм данных, который будет содержать информацию о ЛК посетителя сайта со следующим списком атрибутов\n",
    "\n",
    "1.       Id – уникальный идентификатор личного кабинета\n",
    "2.       User_id – уникальный идентификатор посетителя\n",
    "3.       ФИО посетителя\n",
    "4.       Дату рождения посетителя\n",
    "5.       Дата создания ЛК"
   ]
  },
  {
   "cell_type": "code",
   "execution_count": 472,
   "id": "7963c98d",
   "metadata": {},
   "outputs": [],
   "source": [
    "import datetime\n",
    "df_users = spark.createDataFrame([(256888, 134441, \"Ricnhinova Ojuna Cidipovna\", datetime.date(1985,3,13), datetime.date(2022,5,30)),\n",
    "                                  (256889, 134442, \"Petrov Ivan Vasilevich\", datetime.date(1960,10,1), datetime.date(2022,5,21)),\n",
    "                                  (256890, 134443, \"Zaicev Vasil Vasilevich\", datetime.date(1991,12,31), datetime.date(2022,5,21)),\n",
    "                                  (256891, 134444, \"Ivanov D D\", datetime.date(2000,5,31), datetime.date(2022,6,2)),\n",
    "                                  (256892, 134445, \"Petrov T R\", datetime.date(2001,5,15), datetime.date(2022,6,3)),\n",
    "                                  (256893, 134446, \"Zuleiman Z W\", datetime.date(1999,8,3), datetime.date(2022,6,3)),\n",
    "                                  (256894, 134447, \"Kim A F\", datetime.date(2001,6,10), datetime.date(2022,6,3)),\n",
    "                                  (256895, 134448, \"Cydenov R T\", datetime.date(2002,11,7), datetime.date(2022,7,1)),\n",
    "                                  (256896, 134449, \"Cydypova Z R\", datetime.date(2003,8,6), datetime.date(2022,7,1)),\n",
    "                                  (256897, 134450, \"Mother S R\", datetime.date(2003,9,13), datetime.date(2022,7,1))\n",
    "]\n",
    ", [\"id\", \"user_id\", \"FIO\", \"birthday_date\", \"create_date\"])"
   ]
  },
  {
   "cell_type": "markdown",
   "id": "c5b70d46",
   "metadata": {},
   "source": [
    "Вывести фамилии посетителей, которые читали хотя бы одну новость про спорт."
   ]
  },
  {
   "cell_type": "code",
   "execution_count": 485,
   "id": "7e30f348",
   "metadata": {},
   "outputs": [
    {
     "name": "stdout",
     "output_type": "stream",
     "text": [
      "+--------------------+\n",
      "|                 FIO|\n",
      "+--------------------+\n",
      "|Zaicev Vasil Vasi...|\n",
      "|        Cydypova Z R|\n",
      "|          Mother S R|\n",
      "|         Cydenov R T|\n",
      "+--------------------+\n",
      "\n"
     ]
    }
   ],
   "source": [
    "df.filter(df.tag == \"спорт\")\\\n",
    "  .join(df_users, df.id == df_users.user_id, 'inner')\\\n",
    "  .select(\"FIO\")\\\n",
    "  .distinct()\\\n",
    "  .show()"
   ]
  },
  {
   "cell_type": "markdown",
   "id": "a45edd1b",
   "metadata": {},
   "source": [
    "Выведите 10% ЛК, у которых максимальная разница между датой создания ЛК и датой последнего посещения."
   ]
  },
  {
   "cell_type": "code",
   "execution_count": 488,
   "id": "ddcb4b99",
   "metadata": {},
   "outputs": [
    {
     "name": "stderr",
     "output_type": "stream",
     "text": [
      "[Stage 2182:===================================================>(198 + 2) / 200]\r"
     ]
    },
    {
     "name": "stdout",
     "output_type": "stream",
     "text": [
      "+------+----------+-----------+---------+\n",
      "|    id| last_date|create_date|diff_time|\n",
      "+------+----------+-----------+---------+\n",
      "|134448|2022-05-11| 2022-07-01|       51|\n",
      "+------+----------+-----------+---------+\n",
      "\n"
     ]
    },
    {
     "name": "stderr",
     "output_type": "stream",
     "text": [
      "                                                                                \r"
     ]
    }
   ],
   "source": [
    "df4 = df.groupBy(col(\"id\")).max(\"timestamp\")\n",
    "#df4.show()\n",
    "df5 = df.join(df_users, df.id == df_users.user_id, 'inner')\\\n",
    "        .select(df.id.alias(\"id\"),\\\n",
    "                to_date(from_unixtime(df.timestamp,\"yyyy-dd-MM\")).alias(\"last_date\"),\\\n",
    "                df_users.create_date.alias(\"create_date\"))\\\n",
    "        .distinct()\n",
    "#df6 = df.join(df_users, df.id == df_users.user_id, 'inner').withColumn(\"diff_time\", to_date(from_unixtime(df.timestamp,\"yyyy-dd-MM\")))\n",
    "df5.withColumn(\"diff_time\", datediff(df5.create_date, df5.last_date))\\\n",
    "   .sort(desc(\"diff_time\"))\\\n",
    "   .limit(int((df5.count()*0.1)))\\\n",
    "   .show()\n",
    "#df6.show(100)"
   ]
  },
  {
   "cell_type": "markdown",
   "id": "3c87c927",
   "metadata": {},
   "source": [
    "Вывести топ-5 страниц, которые чаще всего посещают мужчины и топ-5 страниц, которые посещают чаще женщины."
   ]
  },
  {
   "cell_type": "code",
   "execution_count": 490,
   "id": "293d4672",
   "metadata": {},
   "outputs": [
    {
     "name": "stdout",
     "output_type": "stream",
     "text": [
      "топ-5 страниц, которые чаще всего посещают мужчины\n",
      "+-------+-----+\n",
      "|page_id|count|\n",
      "+-------+-----+\n",
      "|    101|    4|\n",
      "|    103|    1|\n",
      "|    200|    1|\n",
      "+-------+-----+\n",
      "\n",
      "топ-5 страниц, которые чаще всего посещают женщины\n",
      "+-------+-----+\n",
      "|page_id|count|\n",
      "+-------+-----+\n",
      "|    101|    2|\n",
      "+-------+-----+\n",
      "\n"
     ]
    }
   ],
   "source": [
    "df_user_sexes = spark.createDataFrame([(134441, \"female\"),\n",
    "                                  (134442, \"male\"),\n",
    "                                  (134443, \"male\"),\n",
    "                                  (134444, \"male\"),\n",
    "                                  (134445, \"male\"),\n",
    "                                  (134446, \"male\"),\n",
    "                                  (134447, \"female\"),\n",
    "                                  (134448, \"male\"),\n",
    "                                  (134449, \"female\"),\n",
    "                                  (134450, \"female\"),\n",
    "]\n",
    ", [\"user_id\", \"sex\"])\n",
    "print(\"топ-5 страниц, которые чаще всего посещают мужчины\")\n",
    "df.filter(df.type == \"visit\")\\\n",
    "  .join(df_users, df.id == df_users.user_id, 'inner')\\\n",
    "  .join(df_user_sexes, df_users.user_id == df_user_sexes.user_id, 'inner')\\\n",
    "  .filter(df_user_sexes.sex == \"male\")\\\n",
    "  .groupBy(\"page_id\")\\\n",
    "  .count()\\\n",
    "  .sort(desc(\"count\"))\\\n",
    "  .show(5)\n",
    "#select(\"sex\", \"page_id\").show()\n",
    "print(\"топ-5 страниц, которые чаще всего посещают женщины\")\n",
    "df.filter(df.type == \"visit\")\\\n",
    "  .join(df_users, df.id == df_users.user_id, 'inner')\\\n",
    "  .join(df_user_sexes, df_users.user_id == df_user_sexes.user_id, 'inner')\\\n",
    "  .filter(df_user_sexes.sex == \"female\")\\\n",
    "  .groupBy(\"page_id\")\\\n",
    "  .count()\\\n",
    "  .sort(desc(\"count\"))\\\n",
    "  .show(5)\n"
   ]
  }
 ],
 "metadata": {
  "kernelspec": {
   "display_name": "Python 3 (ipykernel)",
   "language": "python",
   "name": "python3"
  },
  "language_info": {
   "codemirror_mode": {
    "name": "ipython",
    "version": 3
   },
   "file_extension": ".py",
   "mimetype": "text/x-python",
   "name": "python",
   "nbconvert_exporter": "python",
   "pygments_lexer": "ipython3",
   "version": "3.9.2"
  }
 },
 "nbformat": 4,
 "nbformat_minor": 5
}
